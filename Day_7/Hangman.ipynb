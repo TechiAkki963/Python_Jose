{
 "cells": [
  {
   "cell_type": "code",
   "execution_count": 15,
   "id": "7204998c-8c1a-47bb-843b-78a30aa1ac58",
   "metadata": {},
   "outputs": [
    {
     "name": "stderr",
     "output_type": "stream",
     "text": [
      "<>:5: SyntaxWarning: invalid escape sequence '\\ '\n",
      "<>:13: SyntaxWarning: invalid escape sequence '\\ '\n",
      "<>:21: SyntaxWarning: invalid escape sequence '\\ '\n",
      "<>:63: SyntaxWarning: invalid escape sequence '\\ '\n",
      "<>:5: SyntaxWarning: invalid escape sequence '\\ '\n",
      "<>:13: SyntaxWarning: invalid escape sequence '\\ '\n",
      "<>:21: SyntaxWarning: invalid escape sequence '\\ '\n",
      "<>:63: SyntaxWarning: invalid escape sequence '\\ '\n",
      "/tmp/ipykernel_24243/1975375803.py:5: SyntaxWarning: invalid escape sequence '\\ '\n",
      "  stages = ['''\n",
      "/tmp/ipykernel_24243/1975375803.py:13: SyntaxWarning: invalid escape sequence '\\ '\n",
      "  ''', '''\n",
      "/tmp/ipykernel_24243/1975375803.py:21: SyntaxWarning: invalid escape sequence '\\ '\n",
      "  ''', '''\n",
      "/tmp/ipykernel_24243/1975375803.py:63: SyntaxWarning: invalid escape sequence '\\ '\n",
      "  logo = '''\n"
     ]
    },
    {
     "name": "stdout",
     "output_type": "stream",
     "text": [
      "camel\n",
      "_____\n",
      "************6/6 lives left************\n"
     ]
    },
    {
     "name": "stdin",
     "output_type": "stream",
     "text": [
      "Guess a letter :  o\n"
     ]
    },
    {
     "name": "stdout",
     "output_type": "stream",
     "text": [
      "_____\n",
      "you guessed the letter o,that's not in the word , You lose a life\n",
      "\n",
      "  +---+\n",
      "  |   |\n",
      "  O   |\n",
      "      |\n",
      "      |\n",
      "      |\n",
      "=========\n",
      "\n",
      "************5/6 lives left************\n"
     ]
    },
    {
     "name": "stdin",
     "output_type": "stream",
     "text": [
      "Guess a letter :  l\n"
     ]
    },
    {
     "name": "stdout",
     "output_type": "stream",
     "text": [
      "____l\n",
      "\n",
      "  +---+\n",
      "  |   |\n",
      "  O   |\n",
      "      |\n",
      "      |\n",
      "      |\n",
      "=========\n",
      "\n",
      "************5/6 lives left************\n"
     ]
    },
    {
     "name": "stdin",
     "output_type": "stream",
     "text": [
      "Guess a letter :  i\n"
     ]
    },
    {
     "name": "stdout",
     "output_type": "stream",
     "text": [
      "____l\n",
      "you guessed the letter i,that's not in the word , You lose a life\n",
      "\n",
      "  +---+\n",
      "  |   |\n",
      "  O   |\n",
      "  |   |\n",
      "      |\n",
      "      |\n",
      "=========\n",
      "\n",
      "************4/6 lives left************\n"
     ]
    },
    {
     "name": "stdin",
     "output_type": "stream",
     "text": [
      "Guess a letter :  p\n"
     ]
    },
    {
     "name": "stdout",
     "output_type": "stream",
     "text": [
      "____l\n",
      "you guessed the letter p,that's not in the word , You lose a life\n",
      "\n",
      "  +---+\n",
      "  |   |\n",
      "  O   |\n",
      " /|   |\n",
      "      |\n",
      "      |\n",
      "=========\n",
      "\n",
      "************3/6 lives left************\n"
     ]
    },
    {
     "name": "stdin",
     "output_type": "stream",
     "text": [
      "Guess a letter :  e\n"
     ]
    },
    {
     "name": "stdout",
     "output_type": "stream",
     "text": [
      "___el\n",
      "\n",
      "  +---+\n",
      "  |   |\n",
      "  O   |\n",
      " /|   |\n",
      "      |\n",
      "      |\n",
      "=========\n",
      "\n",
      "************3/6 lives left************\n"
     ]
    },
    {
     "name": "stdin",
     "output_type": "stream",
     "text": [
      "Guess a letter :  w\n"
     ]
    },
    {
     "name": "stdout",
     "output_type": "stream",
     "text": [
      "___el\n",
      "you guessed the letter w,that's not in the word , You lose a life\n",
      "\n",
      "  +---+\n",
      "  |   |\n",
      "  O   |\n",
      " /|\\  |\n",
      "      |\n",
      "      |\n",
      "=========\n",
      "\n",
      "************2/6 lives left************\n"
     ]
    },
    {
     "name": "stdin",
     "output_type": "stream",
     "text": [
      "Guess a letter :  q\n"
     ]
    },
    {
     "name": "stdout",
     "output_type": "stream",
     "text": [
      "___el\n",
      "you guessed the letter q,that's not in the word , You lose a life\n",
      "\n",
      "  +---+\n",
      "  |   |\n",
      "  O   |\n",
      " /|\\  |\n",
      " /    |\n",
      "      |\n",
      "=========\n",
      "\n",
      "************1/6 lives left************\n"
     ]
    },
    {
     "name": "stdin",
     "output_type": "stream",
     "text": [
      "Guess a letter :  o\n"
     ]
    },
    {
     "name": "stdout",
     "output_type": "stream",
     "text": [
      "___el\n",
      "you guessed the letter o,that's not in the word , You lose a life\n",
      "You Lose... The correct word was camel\n",
      "\n",
      "  +---+\n",
      "  |   |\n",
      "  O   |\n",
      " /|\\  |\n",
      " / \\  |\n",
      "      |\n",
      "=========\n",
      "\n",
      "_____\n",
      "___el\n"
     ]
    }
   ],
   "source": [
    "#Hangman\n",
    "import random\n",
    "# from hangman_words import word_list\n",
    "\n",
    "stages = ['''\n",
    "  +---+\n",
    "  |   |\n",
    "  O   |\n",
    " /|\\  |\n",
    " / \\  |\n",
    "      |\n",
    "=========\n",
    "''', '''\n",
    "  +---+\n",
    "  |   |\n",
    "  O   |\n",
    " /|\\  |\n",
    " /    |\n",
    "      |\n",
    "=========\n",
    "''', '''\n",
    "  +---+\n",
    "  |   |\n",
    "  O   |\n",
    " /|\\  |\n",
    "      |\n",
    "      |\n",
    "=========\n",
    "''', '''\n",
    "  +---+\n",
    "  |   |\n",
    "  O   |\n",
    " /|   |\n",
    "      |\n",
    "      |\n",
    "=========\n",
    "''', '''\n",
    "  +---+\n",
    "  |   |\n",
    "  O   |\n",
    "  |   |\n",
    "      |\n",
    "      |\n",
    "=========\n",
    "''', '''\n",
    "  +---+\n",
    "  |   |\n",
    "  O   |\n",
    "      |\n",
    "      |\n",
    "      |\n",
    "=========\n",
    "''', '''\n",
    "  +---+\n",
    "  |   |\n",
    "      |\n",
    "      |\n",
    "      |\n",
    "      |\n",
    "=========\n",
    "''']\n",
    "\n",
    "logo = ''' \n",
    " _                                             \n",
    "| |                                            \n",
    "| |__   __ _ _ __   __ _ _ __ ___   __ _ _ __  \n",
    "| '_ \\ / _` | '_ \\ / _` | '_ ` _ \\ / _` | '_ \\ \n",
    "| | | | (_| | | | | (_| | | | | | | (_| | | | |\n",
    "|_| |_|\\__,_|_| |_|\\__, |_| |_| |_|\\__,_|_| |_|\n",
    "                    __/ |                      \n",
    "                   |___/    \n",
    "'''\n",
    "\n",
    "lives = 6                                                                 \n",
    "                                                                    \n",
    "word_list = [\"aardvark\",\"baboon\",\"camel\"]\n",
    "\n",
    "#Randomly choose a word from the word_list and assign it to a varaible choosen_word\n",
    "\n",
    "choosen_word = random.choice(word_list)\n",
    "print(choosen_word)\n",
    "\n",
    "placeholder = \"\"\n",
    "word_length = len(choosen_word)\n",
    "for position in range(word_length):\n",
    "    placeholder+=\"_\"\n",
    "print(placeholder)\n",
    "\n",
    "game_over = False\n",
    "\n",
    "correct_letter=[]\n",
    "\n",
    "while not game_over:\n",
    "\n",
    "    print(f\"************{lives}/6 lives left************\")\n",
    "    guess_letter=input(\"Guess a letter : \").lower()\n",
    "\n",
    "    if guess_letter in correct_letter:\n",
    "        print(f\"You have already guessed the letter {guess_letter}\")\n",
    "\n",
    "\n",
    "    display = \"\"\n",
    "    for letter in choosen_word:\n",
    "        if letter == guess_letter:\n",
    "            display+=letter\n",
    "            correct_letter.append(guess_letter)\n",
    "        elif letter in correct_letter:\n",
    "            display+=letter\n",
    "        else:\n",
    "            display+=\"_\"\n",
    "    print(display)\n",
    "\n",
    "    if guess_letter not in choosen_word:\n",
    "        lives-=1\n",
    "        print(f\"you guessed the letter {guess_letter},that's not in the word , You lose a life\")\n",
    "        if lives == 0:\n",
    "            game_over = True\n",
    "            print(f\"You Lose... The correct word was {choosen_word}\")\n",
    "    \n",
    "    if \"_\" not in display:\n",
    "        game_over=True\n",
    "        print(\"You Win !!!\")\n",
    "        \n",
    "    print(stages[lives])\n",
    "\n",
    "print(placeholder)\n",
    "print(display)"
   ]
  },
  {
   "cell_type": "code",
   "execution_count": null,
   "id": "152562cc-3471-48d6-b8c5-760efb9f4dad",
   "metadata": {},
   "outputs": [],
   "source": []
  },
  {
   "cell_type": "code",
   "execution_count": null,
   "id": "b0ad9d06-f591-4b2a-b6e7-c5873e264819",
   "metadata": {},
   "outputs": [],
   "source": []
  }
 ],
 "metadata": {
  "kernelspec": {
   "display_name": "Python 3 (ipykernel)",
   "language": "python",
   "name": "python3"
  },
  "language_info": {
   "codemirror_mode": {
    "name": "ipython",
    "version": 3
   },
   "file_extension": ".py",
   "mimetype": "text/x-python",
   "name": "python",
   "nbconvert_exporter": "python",
   "pygments_lexer": "ipython3",
   "version": "3.12.7"
  }
 },
 "nbformat": 4,
 "nbformat_minor": 5
}
