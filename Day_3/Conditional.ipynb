{
 "cells": [
  {
   "cell_type": "code",
   "execution_count": 33,
   "id": "24d900a9-cf2f-42bc-b14a-4c771b4920ed",
   "metadata": {},
   "outputs": [
    {
     "name": "stdout",
     "output_type": "stream",
     "text": [
      "Welcome to the Rollercoaster\n"
     ]
    },
    {
     "name": "stdin",
     "output_type": "stream",
     "text": [
      "Whats your height in cm ? : 125\n"
     ]
    },
    {
     "name": "stdout",
     "output_type": "stream",
     "text": [
      "You can ride the rollercoaster\n"
     ]
    },
    {
     "name": "stdin",
     "output_type": "stream",
     "text": [
      "Enter your age : 50\n"
     ]
    },
    {
     "name": "stdout",
     "output_type": "stream",
     "text": [
      "Everything is going to be ok. Have a free ride with us\n"
     ]
    },
    {
     "name": "stdin",
     "output_type": "stream",
     "text": [
      "Do you want to have a photo take? Type Y for Yes and N for No  Y\n"
     ]
    },
    {
     "name": "stdout",
     "output_type": "stream",
     "text": [
      "total bill amount : $3\n"
     ]
    }
   ],
   "source": [
    "print(\"Welcome to the Rollercoaster\")\n",
    "\n",
    "height = int(input(\"Whats your height in cm ? :\"))\n",
    "\n",
    "bill = 0\n",
    "\n",
    "if height >= 120:\n",
    "    print(\"You can ride the rollercoaster\")\n",
    "    age = int(input(\"Enter your age :\"))\n",
    "    if age <= 12:\n",
    "        bill = 5\n",
    "        print(f\"Please pay ${bill}.\")\n",
    "    elif age <= 18:\n",
    "        bill = 7\n",
    "        print(f\"Please pay ${bill}.\")\n",
    "    elif age >= 45 and age <= 55:\n",
    "        print(\"Everything is going to be ok. Have a free ride with us\")\n",
    "    else:\n",
    "        bill = 12\n",
    "        print(f\"Please pay ${bill}.\")\n",
    "\n",
    "    want_photo = input(\"Do you want to have a photo take? Type Y for Yes and N for No \")\n",
    "    if want_photo == \"Y\":\n",
    "            bill += 3\n",
    "    \n",
    "    print(f\"total bill amount : ${bill}\")\n",
    "else:\n",
    "    print(\"Sorry you have to grow taller before you can ride\")"
   ]
  },
  {
   "cell_type": "code",
   "execution_count": 2,
   "id": "02978149-4888-4669-b9a4-6748e34368cc",
   "metadata": {},
   "outputs": [
    {
     "name": "stdout",
     "output_type": "stream",
     "text": [
      "0\n",
      "1\n"
     ]
    }
   ],
   "source": [
    "# Modulo Operator %\n",
    "\n",
    "print(10 % 5)\n",
    "print(10 % 3)"
   ]
  },
  {
   "cell_type": "code",
   "execution_count": 6,
   "id": "dfeda963-7147-4da1-8ffa-d08eaf47c71c",
   "metadata": {},
   "outputs": [
    {
     "name": "stdin",
     "output_type": "stream",
     "text": [
      "Enter a number : 9\n"
     ]
    },
    {
     "name": "stdout",
     "output_type": "stream",
     "text": [
      "Its Odd\n"
     ]
    }
   ],
   "source": [
    "# Check even or odd\n",
    "\n",
    "num= int(input(\"Enter a number :\"))\n",
    "\n",
    "if num % 2 == 0:\n",
    "    print(\"Its Even\")\n",
    "else:\n",
    "    print(\"Its Odd\")"
   ]
  },
  {
   "cell_type": "code",
   "execution_count": 24,
   "id": "622e804b-c9d3-4bd0-a785-b9fddd90c0d4",
   "metadata": {},
   "outputs": [
    {
     "name": "stdout",
     "output_type": "stream",
     "text": [
      "Welcome to Python Pizza Deliveries\n"
     ]
    },
    {
     "name": "stdin",
     "output_type": "stream",
     "text": [
      "What size pizza do you want ? S, M or L :  N\n",
      "Do you want pepperoni on your pizza? Y or N:  N\n",
      "Do you want extra cheese? Y or N:  N\n"
     ]
    },
    {
     "name": "stdout",
     "output_type": "stream",
     "text": [
      "You have invalid input\n"
     ]
    }
   ],
   "source": [
    "print(\"Welcome to Python Pizza Deliveries\")\n",
    "\n",
    "size = input(\"What size pizza do you want ? S, M or L : \")\n",
    "pepperoni = input(\"Do you want pepperoni on your pizza? Y or N: \")\n",
    "extra_cheese = input(\"Do you want extra cheese? Y or N: \")\n",
    "price = 0\n",
    "\n",
    "if size == \"S\":\n",
    "    price += 15\n",
    "    # print(f\"For your S size pizza, you need to pay : ${price}\")\n",
    "    if pepperoni == \"Y\":\n",
    "        price += 2\n",
    "        # print(f\"with pepperoni, you need to pay : ${price}\")\n",
    "    if extra_cheese == \"Y\":\n",
    "        price += 1\n",
    "        # print(f\"With extra cheese, you need to pay : ${price}\")\n",
    "\n",
    "    print(f\"Total you need to pay: {price}\")\n",
    "        \n",
    "elif size == \"M\":\n",
    "    price += 20\n",
    "    # print(f\"For your M size pizza, you need to pay : ${price}\")\n",
    "    if pepperoni == \"Y\":\n",
    "        price += 3\n",
    "        # print(f\"With Pepperoni, you need to pay : ${price}\")\n",
    "    if extra_cheese == \"Y\":\n",
    "        price += 1\n",
    "        # print(f\"With extra cheese, you need to pay : ${price}\")\n",
    "        \n",
    "    print(f\"Total you need to pay: {price}\")  \n",
    "    \n",
    "elif size == \"L\":\n",
    "    price += 25\n",
    "    # print(f\"For your L size pizza, you need to pay : ${price}\")\n",
    "    if pepperoni == \"Y\":\n",
    "        price += 3\n",
    "        # print(f\"With Pepperoni, you need to pay : ${price}\")\n",
    "    if extra_cheese == \"Y\":\n",
    "        price += 1\n",
    "        # print(f\"With Extra cheese, you need to pay : ${price}\")\n",
    "\n",
    "    print(f\"Total you need to pay: {price}\")\n",
    "\n",
    "else:\n",
    "    print(\"You have invalid input\")"
   ]
  },
  {
   "cell_type": "code",
   "execution_count": 28,
   "id": "50b5a195-f86f-4c4b-a2e9-7a3c2a852f3d",
   "metadata": {},
   "outputs": [
    {
     "name": "stdout",
     "output_type": "stream",
     "text": [
      "Welcome to Python Pizza Deliveries\n"
     ]
    },
    {
     "name": "stdin",
     "output_type": "stream",
     "text": [
      "What size pizza do you want ? S, M or L :  L\n",
      "Do you want pepperoni on your pizza? Y or N:  Y\n",
      "Do you want extra cheese? Y or N:  N\n"
     ]
    },
    {
     "name": "stdout",
     "output_type": "stream",
     "text": [
      "Your final bill is $28\n"
     ]
    }
   ],
   "source": [
    "# Angela's way\n",
    "print(\"Welcome to Python Pizza Deliveries\")\n",
    "\n",
    "size = input(\"What size pizza do you want ? S, M or L : \")\n",
    "pepperoni = input(\"Do you want pepperoni on your pizza? Y or N: \")\n",
    "extra_cheese = input(\"Do you want extra cheese? Y or N: \")\n",
    "price = 0\n",
    "\n",
    "if size == \"S\":\n",
    "    price += 15\n",
    "elif size == \"M\":\n",
    "    price += 20\n",
    "elif size == \"L\":\n",
    "    price += 25\n",
    "else:\n",
    "    print(\"Enter a valid input\")\n",
    "\n",
    "if pepperoni == \"Y\":\n",
    "    if size == \"S\":\n",
    "        price += 2\n",
    "    else:\n",
    "        price += 3\n",
    "\n",
    "if extra_cheese == \"Y\":\n",
    "    price += 1\n",
    "\n",
    "print(f\"Your final bill is ${price}\")\n",
    "    "
   ]
  },
  {
   "cell_type": "code",
   "execution_count": null,
   "id": "c53434a6-dc96-42cb-a1c7-3d0fd7961b7f",
   "metadata": {},
   "outputs": [],
   "source": []
  }
 ],
 "metadata": {
  "kernelspec": {
   "display_name": "Python 3 (ipykernel)",
   "language": "python",
   "name": "python3"
  },
  "language_info": {
   "codemirror_mode": {
    "name": "ipython",
    "version": 3
   },
   "file_extension": ".py",
   "mimetype": "text/x-python",
   "name": "python",
   "nbconvert_exporter": "python",
   "pygments_lexer": "ipython3",
   "version": "3.12.7"
  }
 },
 "nbformat": 4,
 "nbformat_minor": 5
}
