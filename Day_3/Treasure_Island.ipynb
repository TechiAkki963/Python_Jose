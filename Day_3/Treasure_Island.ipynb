{
 "cells": [
  {
   "cell_type": "code",
   "execution_count": 12,
   "id": "b31f01e2-214b-4335-b7ac-8f24865cd9ad",
   "metadata": {},
   "outputs": [
    {
     "name": "stdout",
     "output_type": "stream",
     "text": [
      "Welcome to the treasure island\n",
      "Your mission is to find the treasure\n"
     ]
    },
    {
     "name": "stdin",
     "output_type": "stream",
     "text": [
      "Which way you wanna go? choose 'right' or 'left'  left\n",
      "You have come to a lake.\n",
      "    There is a island in middle of lake.\n",
      "    Type \"wait\" to wait for a boat. \n",
      "    Type 'swim' to swim across. swim\n"
     ]
    },
    {
     "name": "stdout",
     "output_type": "stream",
     "text": [
      "You got drown and eaten by a monster \n"
     ]
    }
   ],
   "source": [
    "# Treasure Island Angela\n",
    "print(\"Welcome to the treasure island\")\n",
    "print(\"Your mission is to find the treasure\")\n",
    "\n",
    "\n",
    "choice1 = input(\"Which way you wanna go? choose 'right' or 'left' \").lower()\n",
    "\n",
    "if choice1 == 'left':\n",
    "    choice2 = input('''You have come to a lake.\n",
    "    There is a island in middle of lake.\n",
    "    Type \"wait\" to wait for a boat. \n",
    "    Type 'swim' to swim across.''').lower()\n",
    "    if choice2 == 'wait':\n",
    "        choice3 = input('''You have reached to the island unharmed.\n",
    "        There is house with 3 doors. One red, one blue and one yellow.\n",
    "        Which color do you choose?''').lower() \n",
    "        if choice3 == 'red':\n",
    "            print(\"It's a room full for fire. Game Over.\")\n",
    "        elif choice3 == \"yellow\":\n",
    "             print(\"You found a treasure. You Won!\")\n",
    "        elif choice3 == 'blue':\n",
    "            print(\"It's a room of Dragon. Game Over.\")\n",
    "        else:\n",
    "            print(\"You lost!!!\")\n",
    "            \n",
    "    \n",
    "    else:\n",
    "        print(\"You got drown and eaten by a monster \")\n",
    "        \n",
    "else:\n",
    "    print(\"You Loss\")"
   ]
  },
  {
   "cell_type": "code",
   "execution_count": null,
   "id": "5f7bd8f4-ea61-4608-8a10-a2d7e3291ceb",
   "metadata": {},
   "outputs": [
    {
     "name": "stderr",
     "output_type": "stream",
     "text": [
      "<>:3: SyntaxWarning: invalid escape sequence '\\`'\n",
      "<>:3: SyntaxWarning: invalid escape sequence '\\`'\n",
      "/tmp/ipykernel_21533/2568310617.py:3: SyntaxWarning: invalid escape sequence '\\`'\n",
      "  print('''\n"
     ]
    },
    {
     "name": "stdout",
     "output_type": "stream",
     "text": [
      "\n",
      "*******************************************************************************\n",
      "          |                   |                  |                     |\n",
      " _________|________________.=\"\"_;=.______________|_____________________|_______\n",
      "|                   |  ,-\"_,=\"\"     `\"=.|                  |\n",
      "|___________________|__\"=._o`\"-._        `\"=.______________|___________________\n",
      "          |                `\"=._o`\"=._      _`\"=._                     |\n",
      " _________|_____________________:=._o \"=._.\"_.-=\"'\"=.__________________|_______\n",
      "|                   |    __.--\" , ; `\"=._o.\" ,-\"\"\"-._ \".   |\n",
      "|___________________|_._\"  ,. .` ` `` ,  `\"-._\"-._   \". '__|___________________\n",
      "          |           |o`\"=._` , \"` `; .\". ,  \"-._\"-._; ;              |\n",
      " _________|___________| ;`-.o`\"=._; .\" ` '`.\"\\` . \"-._ /_______________|_______\n",
      "|                   | |o;    `\"-.o`\"=._``  '` \" ,__.--o;   |\n",
      "|___________________|_| ;     (#) `-.o `\"=.`_.--\"_o.-; ;___|___________________\n",
      "____/______/______/___|o;._    \"      `\".o|o_.--\"    ;o;____/______/______/____\n",
      "/______/______/______/_\"=._o--._        ; | ;        ; ;/______/______/______/_\n",
      "____/______/______/______/__\"=._o--._   ;o|o;     _._;o;____/______/______/____\n",
      "/______/______/______/______/____\"=._o._; | ;_.--\"o.--\"_/______/______/______/_\n",
      "____/______/______/______/______/_____\"=.o|o_.--\"\"___/______/______/______/____\n",
      "/______/______/______/______/______/______/______/______/______/______/\n",
      "*******************************************************************************\n",
      "\n",
      "Welcome to the treasure island\n",
      "Your mission is to find the treasure\n"
     ]
    }
   ],
   "source": [
    "#Treasure Island\n",
    "\n",
    "print('''\n",
    "*******************************************************************************\n",
    "          |                   |                  |                     |\n",
    " _________|________________.=\"\"_;=.______________|_____________________|_______\n",
    "|                   |  ,-\"_,=\"\"     `\"=.|                  |\n",
    "|___________________|__\"=._o`\"-._        `\"=.______________|___________________\n",
    "          |                `\"=._o`\"=._      _`\"=._                     |\n",
    " _________|_____________________:=._o \"=._.\"_.-=\"'\"=.__________________|_______\n",
    "|                   |    __.--\" , ; `\"=._o.\" ,-\"\"\"-._ \".   |\n",
    "|___________________|_._\"  ,. .` ` `` ,  `\"-._\"-._   \". '__|___________________\n",
    "          |           |o`\"=._` , \"` `; .\". ,  \"-._\"-._; ;              |\n",
    " _________|___________| ;`-.o`\"=._; .\" ` '`.\"\\` . \"-._ /_______________|_______\n",
    "|                   | |o;    `\"-.o`\"=._``  '` \" ,__.--o;   |\n",
    "|___________________|_| ;     (#) `-.o `\"=.`_.--\"_o.-; ;___|___________________\n",
    "____/______/______/___|o;._    \"      `\".o|o_.--\"    ;o;____/______/______/____\n",
    "/______/______/______/_\"=._o--._        ; | ;        ; ;/______/______/______/_\n",
    "____/______/______/______/__\"=._o--._   ;o|o;     _._;o;____/______/______/____\n",
    "/______/______/______/______/____\"=._o._; | ;_.--\"o.--\"_/______/______/______/_\n",
    "____/______/______/______/______/_____\"=.o|o_.--\"\"___/______/______/______/____\n",
    "/______/______/______/______/______/______/______/______/______/______/\n",
    "*******************************************************************************\n",
    "''')\n",
    "\n",
    "print(\"Welcome to the treasure island\")\n",
    "print(\"Your mission is to find the treasure\")\n",
    "\n",
    "\n",
    "way=input(\"Choose a direction: L for Left and R for Right: \")\n",
    "part_two = input(\"Which way you wanna go ? S for Swim and W for wait: \")\n",
    "door=input(\"Choose a door: R for Red, B for Blue and Y for Yellow: \")\n",
    "\n",
    "if way == \"L\":\n",
    "    print(\"You Won\") \n",
    "else: \n",
    "    print(\"Game Over\")\n",
    "\n",
    "if part_two == \"W\":\n",
    "    print(\"You move the Next Round\")\n",
    "else:\n",
    "    print(\"Game Over\")\n",
    "\n",
    "if door == \"R\" and door == \"B\":\n",
    "    print(\"You Loss\")\n",
    "else: \n",
    "    print(\"You Won\")\n",
    "    \n",
    "    \n",
    "    "
   ]
  },
  {
   "cell_type": "code",
   "execution_count": null,
   "id": "c877da3d-1e9d-4c05-abf4-5c0fe08fb32b",
   "metadata": {},
   "outputs": [],
   "source": []
  }
 ],
 "metadata": {
  "kernelspec": {
   "display_name": "Python 3 (ipykernel)",
   "language": "python",
   "name": "python3"
  },
  "language_info": {
   "codemirror_mode": {
    "name": "ipython",
    "version": 3
   },
   "file_extension": ".py",
   "mimetype": "text/x-python",
   "name": "python",
   "nbconvert_exporter": "python",
   "pygments_lexer": "ipython3",
   "version": "3.12.7"
  }
 },
 "nbformat": 4,
 "nbformat_minor": 5
}
