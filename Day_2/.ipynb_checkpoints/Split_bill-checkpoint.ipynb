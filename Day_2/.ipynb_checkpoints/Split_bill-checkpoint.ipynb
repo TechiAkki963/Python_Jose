{
 "cells": [
  {
   "cell_type": "code",
   "execution_count": 22,
   "id": "336c4f79-a264-4a8f-8328-8ddee046c7b0",
   "metadata": {},
   "outputs": [
    {
     "name": "stdout",
     "output_type": "stream",
     "text": [
      "Welcome to the Tip Calculator\n"
     ]
    },
    {
     "name": "stdin",
     "output_type": "stream",
     "text": [
      "What is the total bill ? : $ 124.56\n"
     ]
    },
    {
     "name": "stdout",
     "output_type": "stream",
     "text": [
      "<class 'float'>\n"
     ]
    },
    {
     "name": "stdin",
     "output_type": "stream",
     "text": [
      "How much tip would you like to give ? 10, 12 , 15 ,20 : 12\n",
      "How many people to split ? : 7\n"
     ]
    },
    {
     "name": "stdout",
     "output_type": "stream",
     "text": [
      "Each person should pay : 19.93\n"
     ]
    }
   ],
   "source": [
    "#Tip Calculator project\n",
    "\n",
    "print(\"Welcome to the Tip Calculator\")\n",
    "\n",
    "bill = float(input(\"What is the total bill ? : $\"))\n",
    "print(type(bill))\n",
    "\n",
    "tip = float(input(\"How much tip would you like to give ? 10, 12 , 15 ,20 :\"))\n",
    "percent = bill *(tip / 100)\n",
    "\n",
    "split = int(input(\"How many people to split ? :\"))\n",
    "\n",
    "result = round(((bill + percent) / split), 2)\n",
    "\n",
    "print(f\"Each person should pay : {result}\")"
   ]
  },
  {
   "cell_type": "code",
   "execution_count": null,
   "id": "61abb8ea-65ec-44b5-b840-0eab7e82d67b",
   "metadata": {},
   "outputs": [],
   "source": []
  },
  {
   "cell_type": "code",
   "execution_count": null,
   "id": "d073a89a-d40e-4c73-a04a-ae33a14eb8f7",
   "metadata": {},
   "outputs": [],
   "source": []
  }
 ],
 "metadata": {
  "kernelspec": {
   "display_name": "Python 3 (ipykernel)",
   "language": "python",
   "name": "python3"
  },
  "language_info": {
   "codemirror_mode": {
    "name": "ipython",
    "version": 3
   },
   "file_extension": ".py",
   "mimetype": "text/x-python",
   "name": "python",
   "nbconvert_exporter": "python",
   "pygments_lexer": "ipython3",
   "version": "3.12.7"
  }
 },
 "nbformat": 4,
 "nbformat_minor": 5
}
