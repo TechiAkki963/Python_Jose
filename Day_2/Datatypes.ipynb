{
 "cells": [
  {
   "cell_type": "code",
   "execution_count": 3,
   "id": "f404ef7d-5d00-41a4-b453-8d5eb13f7e40",
   "metadata": {},
   "outputs": [
    {
     "name": "stdout",
     "output_type": "stream",
     "text": [
      "l\n",
      "o\n"
     ]
    }
   ],
   "source": [
    "#Subscripting\n",
    "\n",
    "print(\"Hello\"[2])\n",
    "print(\"Hello\"[-1])"
   ]
  },
  {
   "cell_type": "code",
   "execution_count": 5,
   "id": "7a1a070c-5c79-4228-b6b4-6f2a1940e972",
   "metadata": {},
   "outputs": [
    {
     "name": "stdout",
     "output_type": "stream",
     "text": [
      "<class 'int'>\n",
      "<class 'str'>\n",
      "<class 'float'>\n",
      "<class 'bool'>\n"
     ]
    }
   ],
   "source": [
    "print(type(123))\n",
    "print(type(\"abc\"))\n",
    "print(type(123.5))\n",
    "print(type(True))"
   ]
  },
  {
   "cell_type": "code",
   "execution_count": 6,
   "id": "938857a0-39d3-43e2-ac3a-45bdeba8f8d1",
   "metadata": {},
   "outputs": [
    {
     "name": "stdout",
     "output_type": "stream",
     "text": [
      "579\n"
     ]
    }
   ],
   "source": [
    "#Type Conversion\n",
    "\n",
    "print(int(\"123\")+int(\"456\"))"
   ]
  },
  {
   "cell_type": "code",
   "execution_count": 25,
   "id": "094605a3-a482-4b9b-8e58-aeffa8d7a9d9",
   "metadata": {},
   "outputs": [
    {
     "name": "stdin",
     "output_type": "stream",
     "text": [
      "Enter user name Akshay\n"
     ]
    },
    {
     "name": "stdout",
     "output_type": "stream",
     "text": [
      "6\n",
      "<class 'str'>\n",
      "<class 'int'>\n",
      "Number of letter in your name : 6\n"
     ]
    }
   ],
   "source": [
    "# print(\"Number of letter in your name\" + len(input(\"Enter your name\")))\n",
    "\n",
    "name_of_user = input(\"Enter user name\")\n",
    "length_of_username = len(name_of_user)\n",
    "print(length_of_username)\n",
    "\n",
    "print(type(\"Number of letter in your name\"))\n",
    "print(type(length_of_username ))\n",
    "\n",
    "print(\"Number of letter in your name : \" + str(length_of_username))"
   ]
  },
  {
   "cell_type": "code",
   "execution_count": 26,
   "id": "27b4aa1c-011a-423b-b7ed-71c3c4a3abff",
   "metadata": {},
   "outputs": [
    {
     "name": "stdout",
     "output_type": "stream",
     "text": [
      "30.85399449035813\n"
     ]
    }
   ],
   "source": [
    "# BMI Calculator\n",
    "\n",
    "height = 1.65 \n",
    "weight = 84\n",
    "\n",
    "# Write your code here.\n",
    "# Calculate the bmi using weight and height.\n",
    "bmi = weight/(height**2)\n",
    "\n",
    "print(bmi)"
   ]
  },
  {
   "cell_type": "code",
   "execution_count": 29,
   "id": "3af59bc8-5ee0-4314-973f-be8dd2dea955",
   "metadata": {},
   "outputs": [
    {
     "name": "stdout",
     "output_type": "stream",
     "text": [
      "31\n",
      "30.85\n"
     ]
    }
   ],
   "source": [
    "# Number Manipulation\n",
    "\n",
    "print(round(bmi))\n",
    "\n",
    "print(round(bmi, 2))"
   ]
  },
  {
   "cell_type": "code",
   "execution_count": 30,
   "id": "176460b7-cc07-4146-a251-9834740835d8",
   "metadata": {},
   "outputs": [
    {
     "name": "stdout",
     "output_type": "stream",
     "text": [
      "1\n"
     ]
    }
   ],
   "source": [
    "score = 0\n",
    "\n",
    "score += 1\n",
    "print(score)"
   ]
  },
  {
   "cell_type": "code",
   "execution_count": 31,
   "id": "4b68c79f-9456-4c21-93fa-994bb979dd08",
   "metadata": {},
   "outputs": [
    {
     "name": "stdout",
     "output_type": "stream",
     "text": [
      "I am 12 years old\n"
     ]
    }
   ],
   "source": [
    "age = 12\n",
    "\n",
    "print(f\"I am {age} years old\")"
   ]
  },
  {
   "cell_type": "code",
   "execution_count": 32,
   "id": "2ae15180-9bc6-4a84-ae87-6881acc24610",
   "metadata": {},
   "outputs": [
    {
     "name": "stdout",
     "output_type": "stream",
     "text": [
      "6.0\n"
     ]
    }
   ],
   "source": [
    "print(6 + 4 / 2 - (1 * 2))"
   ]
  },
  {
   "cell_type": "code",
   "execution_count": 33,
   "id": "7de1c945-5e58-4093-adbf-c61c2d51cf5d",
   "metadata": {},
   "outputs": [
    {
     "name": "stdout",
     "output_type": "stream",
     "text": [
      "<class 'float'>\n"
     ]
    }
   ],
   "source": [
    "a = int(\"5\") / int(2.7)\n",
    "print(type(a))"
   ]
  },
  {
   "cell_type": "code",
   "execution_count": null,
   "id": "1442282f-387e-4890-843d-afbd92006886",
   "metadata": {},
   "outputs": [],
   "source": [
    "print(\"Welcome to the Tip Calculator\")"
   ]
  }
 ],
 "metadata": {
  "kernelspec": {
   "display_name": "Python 3 (ipykernel)",
   "language": "python",
   "name": "python3"
  },
  "language_info": {
   "codemirror_mode": {
    "name": "ipython",
    "version": 3
   },
   "file_extension": ".py",
   "mimetype": "text/x-python",
   "name": "python",
   "nbconvert_exporter": "python",
   "pygments_lexer": "ipython3",
   "version": "3.12.7"
  }
 },
 "nbformat": 4,
 "nbformat_minor": 5
}
