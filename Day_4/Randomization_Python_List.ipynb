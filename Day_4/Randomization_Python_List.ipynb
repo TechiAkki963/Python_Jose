{
 "cells": [
  {
   "cell_type": "code",
   "execution_count": 8,
   "id": "2315f457-9ad7-4166-a0db-4436b60a6ccd",
   "metadata": {},
   "outputs": [
    {
     "name": "stdout",
     "output_type": "stream",
     "text": [
      "7\n"
     ]
    }
   ],
   "source": [
    "#Randomization\n",
    "\n",
    "import random\n",
    "\n",
    "random_integer=random.randint(1,10)\n",
    "print(random_integer)"
   ]
  },
  {
   "cell_type": "code",
   "execution_count": 9,
   "id": "041bed6a-839f-46f0-ad8d-3a2a7f3571a8",
   "metadata": {},
   "outputs": [
    {
     "name": "stdout",
     "output_type": "stream",
     "text": [
      "4.680026169650616\n"
     ]
    }
   ],
   "source": [
    "random_num_0_to_1=random.random()*10\n",
    "print(random_num_0_to_1)"
   ]
  },
  {
   "cell_type": "code",
   "execution_count": 10,
   "id": "1006a950-e803-446f-91fa-7b490801ae8e",
   "metadata": {},
   "outputs": [
    {
     "name": "stdout",
     "output_type": "stream",
     "text": [
      "9.99488523684481\n"
     ]
    }
   ],
   "source": [
    "random_float=random.uniform(1,10)\n",
    "print(random_float)"
   ]
  },
  {
   "cell_type": "code",
   "execution_count": 7,
   "id": "890f42ec-a915-45f4-a152-f6f2c67c5fcb",
   "metadata": {},
   "outputs": [
    {
     "name": "stdout",
     "output_type": "stream",
     "text": [
      "Heads\n"
     ]
    }
   ],
   "source": [
    "import random\n",
    "random_heads_or_tails = random.randint(0,1)\n",
    "\n",
    "if random_heads_or_tails == 0:\n",
    "    print(\"Heads\")\n",
    "else:\n",
    "    print(\"Tails\")"
   ]
  },
  {
   "cell_type": "code",
   "execution_count": 21,
   "id": "a41779f2-1277-4c03-a7f8-f9a8846488b5",
   "metadata": {},
   "outputs": [
    {
     "name": "stdout",
     "output_type": "stream",
     "text": [
      "Alice\n"
     ]
    }
   ],
   "source": [
    "# Method 1\n",
    "\n",
    "import random\n",
    "\n",
    "friends = [\"Alice\", \"Bob\", \"Charlie\", \"David\", \"Emanuel\"]\n",
    "\n",
    "random_friends = random.randint(0,4)\n",
    "\n",
    "if random_friends == 0:\n",
    "    print(friends[0])\n",
    "elif random_friends == 1:\n",
    "    print(friends[1])\n",
    "elif random_friends == 2:\n",
    "    print(friends[2])\n",
    "elif random_friends == 3:\n",
    "    print(friends[3])\n",
    "elif random_friends == 4:\n",
    "    print(friends[4])"
   ]
  },
  {
   "cell_type": "code",
   "execution_count": 20,
   "id": "22627878-c103-4cad-88fc-43b929984b36",
   "metadata": {},
   "outputs": [
    {
     "name": "stdout",
     "output_type": "stream",
     "text": [
      "Emanuel\n"
     ]
    }
   ],
   "source": [
    "# Method 2\n",
    "\n",
    "import random\n",
    "\n",
    "friends = [\"Alice\", \"Bob\", \"Charlie\", \"David\", \"Emanuel\"]\n",
    "\n",
    "random_friends = random.choice(friends)\n",
    "print(random_friends)"
   ]
  },
  {
   "cell_type": "code",
   "execution_count": 24,
   "id": "90d23e18-bc15-49f0-b459-4463481cf816",
   "metadata": {},
   "outputs": [
    {
     "name": "stdout",
     "output_type": "stream",
     "text": [
      "David\n"
     ]
    }
   ],
   "source": [
    "# Method 3\n",
    "\n",
    "import random\n",
    "\n",
    "friends = [\"Alice\", \"Bob\", \"Charlie\", \"David\", \"Emanuel\"]\n",
    "\n",
    "random_index = random.randint(0,4)\n",
    "print(friends[random_index])"
   ]
  },
  {
   "cell_type": "code",
   "execution_count": 25,
   "id": "eb903f54-716b-4d24-b456-653f7670fc40",
   "metadata": {},
   "outputs": [
    {
     "name": "stdout",
     "output_type": "stream",
     "text": [
      "[['apple', 'mango', 'banana'], ['strawberry', 'rasberry']]\n"
     ]
    }
   ],
   "source": [
    "fruits = [\"apple\", \"mango\", \"banana\"]\n",
    "berries = [\"strawberry\", \"rasberry\"]\n",
    "\n",
    "basket = [fruits, berries]\n",
    "print(basket)"
   ]
  },
  {
   "cell_type": "code",
   "execution_count": 30,
   "id": "dd01f1d0-b4ee-4e8c-8f52-a8d70375b9b2",
   "metadata": {},
   "outputs": [
    {
     "name": "stdout",
     "output_type": "stream",
     "text": [
      "Emanuel\n"
     ]
    }
   ],
   "source": [
    "\n",
    "friends = [\"Alice\", \"Bob\", \"Charlie\", \"David\", \"Emanuel\"]\n",
    "\n",
    "number_of_friends = len(friends)\n",
    "\n",
    "print(friends[number_of_friends - 1])"
   ]
  },
  {
   "cell_type": "code",
   "execution_count": 37,
   "id": "14b975aa-c298-4cce-8aa0-f017b05b9065",
   "metadata": {},
   "outputs": [
    {
     "name": "stdout",
     "output_type": "stream",
     "text": [
      "Rock\n"
     ]
    },
    {
     "name": "stdin",
     "output_type": "stream",
     "text": [
      "What do you choice? Rock, Paper, Scissor : Paper\n"
     ]
    },
    {
     "name": "stdout",
     "output_type": "stream",
     "text": [
      "Bot Win\n"
     ]
    }
   ],
   "source": [
    "# Rock , Papers and Scissors\n",
    "\n",
    "import random\n",
    "\n",
    "choice1 = [\"Rock\", \"Paper\", \"Scissor\"]\n",
    "\n",
    "random_choice = random.choice(choice1)\n",
    "\n",
    "print(random_choice)\n",
    "\n",
    "user_input = input(\"What do you choice? Rock, Paper, Scissor :\")\n",
    "\n",
    "if user_input == choice1[1]:\n",
    "    if random_choice == choice1[2]:\n",
    "        print(\"User Wins\")\n",
    "    else:\n",
    "        print(\"Bot Win\")\n"
   ]
  },
  {
   "cell_type": "code",
   "execution_count": null,
   "id": "e51b7ed4-b914-4648-b59a-99f4ec63a260",
   "metadata": {},
   "outputs": [],
   "source": []
  }
 ],
 "metadata": {
  "kernelspec": {
   "display_name": "Python 3 (ipykernel)",
   "language": "python",
   "name": "python3"
  },
  "language_info": {
   "codemirror_mode": {
    "name": "ipython",
    "version": 3
   },
   "file_extension": ".py",
   "mimetype": "text/x-python",
   "name": "python",
   "nbconvert_exporter": "python",
   "pygments_lexer": "ipython3",
   "version": "3.12.7"
  }
 },
 "nbformat": 4,
 "nbformat_minor": 5
}
