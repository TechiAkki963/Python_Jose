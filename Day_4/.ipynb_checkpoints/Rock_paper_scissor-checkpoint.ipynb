{
 "cells": [
  {
   "cell_type": "code",
   "execution_count": 28,
   "id": "d432796e-094d-4ff1-8e88-7bef3e262a70",
   "metadata": {},
   "outputs": [
    {
     "name": "stdin",
     "output_type": "stream",
     "text": [
      "What do you choose ? 0 for Rock, 1 for Paper and 2 for Scissor \n",
      " 0\n"
     ]
    },
    {
     "name": "stdout",
     "output_type": "stream",
     "text": [
      "\n",
      "    _______\n",
      "---'   ____)\n",
      "      (_____)\n",
      "      (_____)\n",
      "      (____)\n",
      "---.__(___)\n",
      "\n",
      "\n",
      "Computer :\n",
      "\n",
      "    _______\n",
      "---'   ____)____\n",
      "          ______)\n",
      "          _______)\n",
      "         _______)\n",
      "---.__________)\n",
      "\n",
      "\n",
      "You Lose\n"
     ]
    }
   ],
   "source": [
    "# Rock Paper Scissor\n",
    "\n",
    "import random\n",
    "\n",
    "rock = '''\n",
    "    _______\n",
    "---'   ____)\n",
    "      (_____)\n",
    "      (_____)\n",
    "      (____)\n",
    "---.__(___)\n",
    "\n",
    "'''\n",
    "\n",
    "paper = '''\n",
    "\n",
    "    _______\n",
    "---'   ____)____\n",
    "          ______)\n",
    "          _______)\n",
    "         _______)\n",
    "---.__________)\n",
    "\n",
    "'''\n",
    "\n",
    "scissor = '''\n",
    "    _______\n",
    "---'   ____)____\n",
    "          ______)\n",
    "       __________)\n",
    "      (____)\n",
    "---.__(___)\n",
    "\n",
    "'''\n",
    "\n",
    "\n",
    "\n",
    "game = [rock, paper, scissor]\n",
    "\n",
    "\n",
    "\n",
    "user_choice = int(input(\"What do you choose ? 0 for Rock, 1 for Paper and 2 for Scissor \\n\"))\n",
    "\n",
    "if user_choice <= 2 or user_choice >= 0:\n",
    "    print(game[user_choice])\n",
    "\n",
    "computer_choice = random.randint(0,2)\n",
    "\n",
    "# print(f\"computer choose {computer_choice}\")\n",
    "print(f\"Computer :{game[computer_choice]}\")\n",
    "\n",
    "# Rock wins against scissors.\n",
    "# Scissors win against paper.\n",
    "# Paper wins against rock.\n",
    "\n",
    "\n",
    "if user_choice >= 3 or user_choice < 0:\n",
    "    print(\"You typed a invalid number You loss\")\n",
    "elif user_choice == 0 and computer_choice ==2:\n",
    "    print(\"You Win\")\n",
    "elif user_choice == 2 and computer_choice == 0:\n",
    "    print(\"You loss\")\n",
    "elif computer_choice > user_choice:\n",
    "    print(\"You Lose\")    \n",
    "elif user_choice > computer_choice:\n",
    "    print(\"You Win\")\n",
    "elif computer_choice == user_choice:\n",
    "    print(\"It's a draw\")\n"
   ]
  },
  {
   "cell_type": "code",
   "execution_count": null,
   "id": "8d908e3d-c4dc-456f-bc51-9bac63b801f8",
   "metadata": {},
   "outputs": [],
   "source": []
  },
  {
   "cell_type": "code",
   "execution_count": null,
   "id": "01ca5978-a748-4411-b1ec-1b7560a8b0d7",
   "metadata": {},
   "outputs": [],
   "source": []
  }
 ],
 "metadata": {
  "kernelspec": {
   "display_name": "Python 3 (ipykernel)",
   "language": "python",
   "name": "python3"
  },
  "language_info": {
   "codemirror_mode": {
    "name": "ipython",
    "version": 3
   },
   "file_extension": ".py",
   "mimetype": "text/x-python",
   "name": "python",
   "nbconvert_exporter": "python",
   "pygments_lexer": "ipython3",
   "version": "3.12.7"
  }
 },
 "nbformat": 4,
 "nbformat_minor": 5
}
