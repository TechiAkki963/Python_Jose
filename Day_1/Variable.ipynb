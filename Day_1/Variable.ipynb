{
 "cells": [
  {
   "cell_type": "markdown",
   "id": "e6c5ec8e-0691-4b23-9a39-651d4a7422f5",
   "metadata": {},
   "source": [
    "print function"
   ]
  },
  {
   "cell_type": "code",
   "execution_count": 1,
   "id": "6b9f94bc-375b-4d32-9f1e-7c0346259b3a",
   "metadata": {},
   "outputs": [
    {
     "name": "stdout",
     "output_type": "stream",
     "text": [
      "Hello World\n"
     ]
    }
   ],
   "source": [
    "print(\"Hello World\")"
   ]
  },
  {
   "cell_type": "code",
   "execution_count": 2,
   "id": "05f24044-9737-42e2-a178-50573a17de14",
   "metadata": {},
   "outputs": [],
   "source": [
    "# Comment"
   ]
  },
  {
   "cell_type": "code",
   "execution_count": 4,
   "id": "05462a7b-685c-4254-8f53-cd07552d2d26",
   "metadata": {},
   "outputs": [
    {
     "name": "stdout",
     "output_type": "stream",
     "text": [
      "Hello Akshay\n"
     ]
    }
   ],
   "source": [
    "print(\"Hello\"+\" \"+\"Akshay\")"
   ]
  },
  {
   "cell_type": "markdown",
   "id": "31164d2f-4b0a-492b-85ec-cf771c5634bf",
   "metadata": {},
   "source": [
    "# Input Function"
   ]
  },
  {
   "cell_type": "code",
   "execution_count": 7,
   "id": "2fc00acc-ffbc-4455-ab4b-2d5020b67af2",
   "metadata": {},
   "outputs": [
    {
     "name": "stdin",
     "output_type": "stream",
     "text": [
      "What is your name ? Akshay\n"
     ]
    },
    {
     "data": {
      "text/plain": [
       "'Akshay'"
      ]
     },
     "execution_count": 7,
     "metadata": {},
     "output_type": "execute_result"
    }
   ],
   "source": [
    "input(\"What is your name ?\")"
   ]
  },
  {
   "cell_type": "code",
   "execution_count": 9,
   "id": "8a261be4-a6ea-4626-b5bb-c397b23f964a",
   "metadata": {},
   "outputs": [
    {
     "name": "stdin",
     "output_type": "stream",
     "text": [
      "what is your name? Pokemon\n"
     ]
    },
    {
     "name": "stdout",
     "output_type": "stream",
     "text": [
      "Hello Pokemon\n"
     ]
    }
   ],
   "source": [
    "print(\"Hello\"+\" \"+input(\"what is your name?\")+\"!\")"
   ]
  },
  {
   "cell_type": "markdown",
   "id": "55e9a8c7-f296-4c2a-bd16-1230e1403c76",
   "metadata": {},
   "source": [
    "# Variables"
   ]
  },
  {
   "cell_type": "code",
   "execution_count": 10,
   "id": "1416539b-8342-4ce9-a09b-b76eae3a8b54",
   "metadata": {},
   "outputs": [
    {
     "name": "stdin",
     "output_type": "stream",
     "text": [
      "What is your name? bucky\n"
     ]
    }
   ],
   "source": [
    "name = input(\"What is your name?\")"
   ]
  },
  {
   "cell_type": "code",
   "execution_count": 11,
   "id": "acf99a05-7c3d-4437-8252-d65be62ba709",
   "metadata": {},
   "outputs": [
    {
     "name": "stdout",
     "output_type": "stream",
     "text": [
      "bucky\n"
     ]
    }
   ],
   "source": [
    "print(name)"
   ]
  },
  {
   "cell_type": "code",
   "execution_count": 13,
   "id": "afe44976-0ea7-47f1-80a9-fb00e841d5d7",
   "metadata": {},
   "outputs": [
    {
     "name": "stdout",
     "output_type": "stream",
     "text": [
      "Hi bucky!\n"
     ]
    }
   ],
   "source": [
    "print(\"Hi\"+\" \"+name+\"!\")"
   ]
  },
  {
   "cell_type": "code",
   "execution_count": 14,
   "id": "8acbdfdd-d8b4-4c8c-8f00-c8093feb2529",
   "metadata": {},
   "outputs": [],
   "source": [
    "name = \"Jack\""
   ]
  },
  {
   "cell_type": "code",
   "execution_count": 15,
   "id": "817c7872-0d4c-4304-8469-3f8f45f5320d",
   "metadata": {},
   "outputs": [
    {
     "name": "stdout",
     "output_type": "stream",
     "text": [
      "Jack\n"
     ]
    }
   ],
   "source": [
    "print(name)"
   ]
  },
  {
   "cell_type": "code",
   "execution_count": 18,
   "id": "a230069d-f66b-4634-b83d-1ed069780d96",
   "metadata": {},
   "outputs": [
    {
     "name": "stdout",
     "output_type": "stream",
     "text": [
      "4\n"
     ]
    }
   ],
   "source": [
    "print(len(name))"
   ]
  },
  {
   "cell_type": "code",
   "execution_count": 22,
   "id": "73f4ebf3-b9a4-490d-a7e0-f8eba53af86c",
   "metadata": {},
   "outputs": [
    {
     "name": "stdout",
     "output_type": "stream",
     "text": [
      "alexander\n",
      "9\n"
     ]
    }
   ],
   "source": [
    "name = \"alexander\"\n",
    "length = len(name)\n",
    "print(name)\n",
    "print(length)"
   ]
  },
  {
   "cell_type": "code",
   "execution_count": null,
   "id": "eec351ca-e928-4925-9e55-3490db701eaa",
   "metadata": {},
   "outputs": [],
   "source": []
  }
 ],
 "metadata": {
  "kernelspec": {
   "display_name": "Python 3 (ipykernel)",
   "language": "python",
   "name": "python3"
  },
  "language_info": {
   "codemirror_mode": {
    "name": "ipython",
    "version": 3
   },
   "file_extension": ".py",
   "mimetype": "text/x-python",
   "name": "python",
   "nbconvert_exporter": "python",
   "pygments_lexer": "ipython3",
   "version": "3.12.7"
  }
 },
 "nbformat": 4,
 "nbformat_minor": 5
}
