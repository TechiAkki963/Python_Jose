{
 "cells": [
  {
   "cell_type": "code",
   "execution_count": 16,
   "id": "d2c54806-aa2c-47b4-808f-2bc0a3945b24",
   "metadata": {},
   "outputs": [
    {
     "name": "stdout",
     "output_type": "stream",
     "text": [
      "Welcome to the Bandname Generator\n"
     ]
    },
    {
     "name": "stdin",
     "output_type": "stream",
     "text": [
      "What is the name of the city you are grow up in ?  bmbby\n",
      "What is your pet name ?  duck\n"
     ]
    },
    {
     "name": "stdout",
     "output_type": "stream",
     "text": [
      "your band name is bmbby duck\n"
     ]
    }
   ],
   "source": [
    "print(\"Welcome to the Bandname Generator\")\n",
    "\n",
    "city = input(\"What is the name of the city you are grow up in ? \")\n",
    "pet = input(\"What is your pet name ? \")\n",
    "\n",
    "print(\"your band name is \"+ city +\" \"+ pet )"
   ]
  },
  {
   "cell_type": "code",
   "execution_count": null,
   "id": "fb24935e-4b4d-477f-a683-80046e144855",
   "metadata": {},
   "outputs": [],
   "source": []
  }
 ],
 "metadata": {
  "kernelspec": {
   "display_name": "Python 3 (ipykernel)",
   "language": "python",
   "name": "python3"
  },
  "language_info": {
   "codemirror_mode": {
    "name": "ipython",
    "version": 3
   },
   "file_extension": ".py",
   "mimetype": "text/x-python",
   "name": "python",
   "nbconvert_exporter": "python",
   "pygments_lexer": "ipython3",
   "version": "3.12.7"
  }
 },
 "nbformat": 4,
 "nbformat_minor": 5
}
