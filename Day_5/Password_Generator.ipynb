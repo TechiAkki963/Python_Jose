{
 "cells": [
  {
   "cell_type": "code",
   "execution_count": 19,
   "id": "50044530-5b08-4be5-8a7e-ff72559689cb",
   "metadata": {},
   "outputs": [
    {
     "name": "stdout",
     "output_type": "stream",
     "text": [
      "Welcome to the Password Generator!\n",
      "['a', 'b', 'c', 'd', 'e', 'f', 'g', 'h', 'i', 'j', 'k', 'l', 'm', 'n', 'o', 'p', 'q', 'r', 's', 't', 'u', 'v', 'w', 'x', 'y', 'z', 'A', 'B', 'C', 'D', 'E', 'F', 'G', 'H', 'I', 'J', 'K', 'L', 'M', 'N', 'O', 'P', 'Q', 'R', 'S', 'T', 'U', 'V', 'W', 'X', 'Y', 'Z']\n"
     ]
    },
    {
     "name": "stdin",
     "output_type": "stream",
     "text": [
      "How many number would you like to have in your password ? \n",
      " 4\n",
      "How many symbols would you like ?\n",
      " 4\n",
      "How many numbers would you like ? \n",
      " 4\n"
     ]
    },
    {
     "name": "stdout",
     "output_type": "stream",
     "text": [
      "emCN%?<*5208\n"
     ]
    }
   ],
   "source": [
    "# Password Generator\n",
    "\n",
    "#Easy Level\n",
    "\n",
    "import random\n",
    "print(\"Welcome to the Password Generator!\")\n",
    "\n",
    "letters = ['a','b','c','d','e','f','g','h','i','j','k','l','m','n','o','p','q','r','s','t','u','v','w','x','y','z','A','B','C','D','E','F','G','H','I','J','K','L','M','N','O','P','Q','R','S','T','U','V','W','X','Y','Z']\n",
    "print(letters)\n",
    "numbers = ['0','1','2','3','4','5','6','7','8','9']\n",
    "\n",
    "symbols = ['!','@','#','$','%','^','&','*','(',')','<','>','?','~']\n",
    "\n",
    "pass_letters = int(input(\"How many number would you like to have in your password ? \\n\"))\n",
    "pass_symbol = int(input(\"How many symbols would you like ?\\n\"))\n",
    "pass_numbers = int(input(\"How many numbers would you like ? \\n\"))\n",
    "\n",
    "\n",
    "password = \"\"\n",
    "\n",
    "for letter in range(1,pass_letters + 1):\n",
    "    random_letter =  random.choice(letters)\n",
    "    password += random_letter\n",
    "\n",
    "for letter in range(1,pass_symbol + 1):\n",
    "    random_symbol =  random.choice(symbols)\n",
    "    password += random_symbol\n",
    "\n",
    "for letter in range(1,pass_numbers + 1):\n",
    "    random_numbers =  random.choice(numbers)\n",
    "    password += random_numbers\n",
    "    \n",
    "print(password)"
   ]
  },
  {
   "cell_type": "code",
   "execution_count": 26,
   "id": "95bfa0f7-89fe-4ac5-8cb6-caaac6756214",
   "metadata": {},
   "outputs": [
    {
     "name": "stdout",
     "output_type": "stream",
     "text": [
      "Welcome to the Password Generator!\n",
      "['a', 'b', 'c', 'd', 'e', 'f', 'g', 'h', 'i', 'j', 'k', 'l', 'm', 'n', 'o', 'p', 'q', 'r', 's', 't', 'u', 'v', 'w', 'x', 'y', 'z', 'A', 'B', 'C', 'D', 'E', 'F', 'G', 'H', 'I', 'J', 'K', 'L', 'M', 'N', 'O', 'P', 'Q', 'R', 'S', 'T', 'U', 'V', 'W', 'X', 'Y', 'Z']\n"
     ]
    },
    {
     "name": "stdin",
     "output_type": "stream",
     "text": [
      "How many number would you like to have in your password ? \n",
      " 12\n",
      "How many symbols would you like ?\n",
      " 4\n",
      "How many numbers would you like ? \n",
      " 3\n"
     ]
    },
    {
     "name": "stdout",
     "output_type": "stream",
     "text": [
      "['y', 'O', 'T', 'w', 'h', 'b', 'L', 'w', 'i', 'W', 'G', 't', '!', '?', '<', '~', '0', '7', '4']\n",
      "['T', 'i', 'y', '~', '7', 'b', 'w', '0', 'h', 'W', 'L', 't', '4', '<', 'O', 'w', '!', '?', 'G']\n",
      "Your password : Tiy~7bw0hWLt4<Ow!?G\n"
     ]
    }
   ],
   "source": [
    "# Hard Level\n",
    "\n",
    "import random\n",
    "print(\"Welcome to the Password Generator!\")\n",
    "\n",
    "letters = ['a','b','c','d','e','f','g','h','i','j','k','l','m','n','o','p','q','r','s','t','u','v','w','x','y','z','A','B','C','D','E','F','G','H','I','J','K','L','M','N','O','P','Q','R','S','T','U','V','W','X','Y','Z']\n",
    "print(letters)\n",
    "numbers = ['0','1','2','3','4','5','6','7','8','9']\n",
    "\n",
    "symbols = ['!','@','#','$','%','^','&','*','(',')','<','>','?','~']\n",
    "\n",
    "pass_letters = int(input(\"How many number would you like to have in your password ? \\n\"))\n",
    "pass_symbol = int(input(\"How many symbols would you like ?\\n\"))\n",
    "pass_numbers = int(input(\"How many numbers would you like ? \\n\"))\n",
    "\n",
    "\n",
    "password_list = []\n",
    "\n",
    "for letter in range(1,pass_letters + 1):\n",
    "    random_letter =  random.choice(letters)\n",
    "    password_list.append(random_letter)\n",
    "\n",
    "for letter in range(1,pass_symbol + 1):\n",
    "    random_symbol =  random.choice(symbols)\n",
    "    password_list.append(random_symbol)\n",
    "\n",
    "for letter in range(1,pass_numbers + 1):\n",
    "    random_numbers =  random.choice(numbers)\n",
    "    password_list.append(random_numbers)\n",
    "    \n",
    "print(password_list)\n",
    "\n",
    "random.shuffle(password_list)\n",
    "\n",
    "print(password_list)\n",
    "\n",
    "password = \"\"\n",
    "\n",
    "for char in password_list:\n",
    "    password += char\n",
    "    # print(password)\n",
    "\n",
    "print(f\"Your password : {password}\")\n",
    "\n"
   ]
  },
  {
   "cell_type": "code",
   "execution_count": null,
   "id": "e7af2913-5157-4edf-bfbb-5ab2271c3ead",
   "metadata": {},
   "outputs": [],
   "source": []
  }
 ],
 "metadata": {
  "kernelspec": {
   "display_name": "Python 3 (ipykernel)",
   "language": "python",
   "name": "python3"
  },
  "language_info": {
   "codemirror_mode": {
    "name": "ipython",
    "version": 3
   },
   "file_extension": ".py",
   "mimetype": "text/x-python",
   "name": "python",
   "nbconvert_exporter": "python",
   "pygments_lexer": "ipython3",
   "version": "3.12.7"
  }
 },
 "nbformat": 4,
 "nbformat_minor": 5
}
