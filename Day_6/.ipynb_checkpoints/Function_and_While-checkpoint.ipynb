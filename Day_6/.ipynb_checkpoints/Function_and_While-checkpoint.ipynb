{
 "cells": [
  {
   "cell_type": "code",
   "execution_count": 1,
   "id": "189355f4-7b2b-4cbe-baa3-712ef07b1240",
   "metadata": {},
   "outputs": [
    {
     "name": "stdout",
     "output_type": "stream",
     "text": [
      "Hello\n",
      "Turn around\n"
     ]
    }
   ],
   "source": [
    "def my_function():\n",
    "    print(\"Hello\")\n",
    "    print(\"Turn around\")\n",
    "my_function()"
   ]
  },
  {
   "cell_type": "code",
   "execution_count": 6,
   "id": "933c1569-28b5-4727-a6ca-a30836b2c154",
   "metadata": {},
   "outputs": [
    {
     "name": "stdout",
     "output_type": "stream",
     "text": [
      "5\n",
      "4\n",
      "3\n",
      "2\n",
      "1\n",
      "0\n"
     ]
    }
   ],
   "source": [
    "x = 5\n",
    "\n",
    "while x>0:\n",
    "    print(x)\n",
    "    x-=1\n",
    "    "
   ]
  },
  {
   "cell_type": "code",
   "execution_count": null,
   "id": "c4035241-4b0b-4017-a603-574405187762",
   "metadata": {},
   "outputs": [],
   "source": []
  }
 ],
 "metadata": {
  "kernelspec": {
   "display_name": "Python 3 (ipykernel)",
   "language": "python",
   "name": "python3"
  },
  "language_info": {
   "codemirror_mode": {
    "name": "ipython",
    "version": 3
   },
   "file_extension": ".py",
   "mimetype": "text/x-python",
   "name": "python",
   "nbconvert_exporter": "python",
   "pygments_lexer": "ipython3",
   "version": "3.12.7"
  }
 },
 "nbformat": 4,
 "nbformat_minor": 5
}
